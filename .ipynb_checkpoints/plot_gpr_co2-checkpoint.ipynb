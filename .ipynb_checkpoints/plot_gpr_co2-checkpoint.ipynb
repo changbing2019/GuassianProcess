{
 "cells": [
  {
   "cell_type": "code",
   "execution_count": 1,
   "metadata": {},
   "outputs": [],
   "source": [
    "%matplotlib inline"
   ]
  },
  {
   "cell_type": "markdown",
   "metadata": {},
   "source": [
    "\n",
    "# Gaussian process regression (GPR) on Mauna Loa CO2 data\n",
    "\n",
    "This example is based on Section 5.4.3 of \"Gaussian Processes for Machine\n",
    "Learning\" [RW2006]_. It illustrates an example of complex kernel engineering\n",
    "and hyperparameter optimization using gradient ascent on the\n",
    "log-marginal-likelihood. The data consists of the monthly average atmospheric\n",
    "CO2 concentrations (in parts per million by volume (ppm)) collected at the\n",
    "Mauna Loa Observatory in Hawaii, between 1958 and 2001. The objective is to\n",
    "model the CO2 concentration as a function of the time $t$ and extrapolate\n",
    "for years after 2001.\n",
    "\n",
    ".. topic: References\n",
    "\n",
    "    .. [RW2006] [Rasmussen, Carl Edward.\n",
    "       \"Gaussian processes in machine learning.\"\n",
    "       Summer school on machine learning. Springer, Berlin, Heidelberg, 2003](http://www.gaussianprocess.org/gpml/chapters/RW.pdf).\n"
   ]
  },
  {
   "cell_type": "code",
   "execution_count": 2,
   "metadata": {},
   "outputs": [
    {
     "name": "stdout",
     "output_type": "stream",
     "text": [
      "Automatically created module for IPython interactive environment\n"
     ]
    }
   ],
   "source": [
    "print(__doc__)\n",
    "\n",
    "# Authors: Jan Hendrik Metzen <jhm@informatik.uni-bremen.de>\n",
    "#          Guillaume Lemaitre <g.lemaitre58@gmail.com>\n",
    "# License: BSD 3 clause"
   ]
  },
  {
   "cell_type": "markdown",
   "metadata": {},
   "source": [
    "## Build the dataset\n",
    "\n",
    "We will derive a dataset from the Mauna Loa Observatory that collected air\n",
    "samples. We are interested in estimating the concentration of CO2 and\n",
    "extrapolate it for further year. First, we load the original dataset available\n",
    "in OpenML.\n",
    "\n"
   ]
  },
  {
   "cell_type": "code",
   "execution_count": 3,
   "metadata": {},
   "outputs": [
    {
     "data": {
      "text/html": [
       "<div>\n",
       "<style scoped>\n",
       "    .dataframe tbody tr th:only-of-type {\n",
       "        vertical-align: middle;\n",
       "    }\n",
       "\n",
       "    .dataframe tbody tr th {\n",
       "        vertical-align: top;\n",
       "    }\n",
       "\n",
       "    .dataframe thead th {\n",
       "        text-align: right;\n",
       "    }\n",
       "</style>\n",
       "<table border=\"1\" class=\"dataframe\">\n",
       "  <thead>\n",
       "    <tr style=\"text-align: right;\">\n",
       "      <th></th>\n",
       "      <th>year</th>\n",
       "      <th>month</th>\n",
       "      <th>day</th>\n",
       "      <th>weight</th>\n",
       "      <th>flag</th>\n",
       "      <th>station</th>\n",
       "      <th>co2</th>\n",
       "    </tr>\n",
       "  </thead>\n",
       "  <tbody>\n",
       "    <tr>\n",
       "      <th>0</th>\n",
       "      <td>1958.0</td>\n",
       "      <td>3.0</td>\n",
       "      <td>29.0</td>\n",
       "      <td>4.0</td>\n",
       "      <td>0.0</td>\n",
       "      <td>MLO</td>\n",
       "      <td>316.1</td>\n",
       "    </tr>\n",
       "    <tr>\n",
       "      <th>1</th>\n",
       "      <td>1958.0</td>\n",
       "      <td>4.0</td>\n",
       "      <td>5.0</td>\n",
       "      <td>6.0</td>\n",
       "      <td>0.0</td>\n",
       "      <td>MLO</td>\n",
       "      <td>317.3</td>\n",
       "    </tr>\n",
       "    <tr>\n",
       "      <th>2</th>\n",
       "      <td>1958.0</td>\n",
       "      <td>4.0</td>\n",
       "      <td>12.0</td>\n",
       "      <td>4.0</td>\n",
       "      <td>0.0</td>\n",
       "      <td>MLO</td>\n",
       "      <td>317.6</td>\n",
       "    </tr>\n",
       "    <tr>\n",
       "      <th>3</th>\n",
       "      <td>1958.0</td>\n",
       "      <td>4.0</td>\n",
       "      <td>19.0</td>\n",
       "      <td>6.0</td>\n",
       "      <td>0.0</td>\n",
       "      <td>MLO</td>\n",
       "      <td>317.5</td>\n",
       "    </tr>\n",
       "    <tr>\n",
       "      <th>4</th>\n",
       "      <td>1958.0</td>\n",
       "      <td>4.0</td>\n",
       "      <td>26.0</td>\n",
       "      <td>2.0</td>\n",
       "      <td>0.0</td>\n",
       "      <td>MLO</td>\n",
       "      <td>316.4</td>\n",
       "    </tr>\n",
       "  </tbody>\n",
       "</table>\n",
       "</div>"
      ],
      "text/plain": [
       "     year  month   day  weight  flag station    co2\n",
       "0  1958.0    3.0  29.0     4.0   0.0     MLO  316.1\n",
       "1  1958.0    4.0   5.0     6.0   0.0     MLO  317.3\n",
       "2  1958.0    4.0  12.0     4.0   0.0     MLO  317.6\n",
       "3  1958.0    4.0  19.0     6.0   0.0     MLO  317.5\n",
       "4  1958.0    4.0  26.0     2.0   0.0     MLO  316.4"
      ]
     },
     "execution_count": 3,
     "metadata": {},
     "output_type": "execute_result"
    }
   ],
   "source": [
    "from sklearn.datasets import fetch_openml\n",
    "\n",
    "co2 = fetch_openml(data_id=41187, as_frame=True)\n",
    "co2.frame.head()"
   ]
  },
  {
   "cell_type": "markdown",
   "metadata": {},
   "source": [
    "First, we process the original dataframe to create a date index and select\n",
    "only the CO2 column.\n",
    "\n"
   ]
  },
  {
   "cell_type": "code",
   "execution_count": null,
   "metadata": {},
   "outputs": [],
   "source": [
    "import pandas as pd\n",
    "\n",
    "co2_data = co2.frame\n",
    "co2_data[\"date\"] = pd.to_datetime(co2_data[[\"year\", \"month\", \"day\"]])\n",
    "co2_data = co2_data[[\"date\", \"co2\"]].set_index(\"date\")\n",
    "co2_data.head()"
   ]
  },
  {
   "cell_type": "code",
   "execution_count": null,
   "metadata": {},
   "outputs": [],
   "source": [
    "co2_data.index.min(), co2_data.index.max()"
   ]
  },
  {
   "cell_type": "markdown",
   "metadata": {},
   "source": [
    "We see that we get CO2 concentration for some days from March, 1958 to\n",
    "December, 2001. We can plot these raw information to have a better\n",
    "understanding.\n",
    "\n"
   ]
  },
  {
   "cell_type": "code",
   "execution_count": null,
   "metadata": {},
   "outputs": [],
   "source": [
    "import matplotlib.pyplot as plt\n",
    "\n",
    "co2_data.plot()\n",
    "plt.ylabel(\"CO$_2$ concentration (ppm)\")\n",
    "_ = plt.title(\"Raw air samples measurements from the Mauna Loa Observatory\")"
   ]
  },
  {
   "cell_type": "markdown",
   "metadata": {},
   "source": [
    "We will preprocess the dataset by taking a monthly average and drop month\n",
    "for which no measurements were collected. Such a processing will have an\n",
    "smoothing effect on the data.\n",
    "\n"
   ]
  },
  {
   "cell_type": "code",
   "execution_count": null,
   "metadata": {},
   "outputs": [],
   "source": [
    "co2_data = co2_data.resample(\"M\").mean().dropna(axis=\"index\", how=\"any\")\n",
    "co2_data.plot()\n",
    "plt.ylabel(\"Monthly average of CO$_2$ concentration (ppm)\")\n",
    "_ = plt.title(\n",
    "    \"Monthly average of air samples measurements\\nfrom the Mauna Loa Observatory\"\n",
    ")"
   ]
  },
  {
   "cell_type": "markdown",
   "metadata": {},
   "source": [
    "The idea in this example will be to predict the CO2 concentration in function\n",
    "of the date. We are as well interested in extrapolating for upcoming year\n",
    "after 2001.\n",
    "\n",
    "As a first step, we will divide the data and the target to estimate. The data\n",
    "being a date, we will convert it into a numeric.\n",
    "\n"
   ]
  },
  {
   "cell_type": "code",
   "execution_count": null,
   "metadata": {},
   "outputs": [],
   "source": [
    "X = (co2_data.index.year + co2_data.index.month / 12).to_numpy().reshape(-1, 1)\n",
    "y = co2_data[\"co2\"].to_numpy()"
   ]
  },
  {
   "cell_type": "markdown",
   "metadata": {},
   "source": [
    "## Design the proper kernel\n",
    "\n",
    "To design the kernel to use with our Gaussian process, we can make some\n",
    "assumption regarding the data at hand. We observe that they have several\n",
    "characteristics: we see a long term rising trend, a pronounced seasonal\n",
    "variation and some smaller irregularities. We can use different appropriate\n",
    "kernel that would capture these features.\n",
    "\n",
    "First, the long term rising trend could be fitted using a radial basis\n",
    "function (RBF) kernel with a large length-scale parameter. The RBF kernel\n",
    "with a large length-scale enforces this component to be smooth. An trending\n",
    "increase is not enforced as to give a degree of freedom to our model. The\n",
    "specific length-scale and the amplitude are free hyperparameters.\n",
    "\n"
   ]
  },
  {
   "cell_type": "code",
   "execution_count": null,
   "metadata": {},
   "outputs": [],
   "source": [
    "from sklearn.gaussian_process.kernels import RBF\n",
    "\n",
    "long_term_trend_kernel = 50.0**2 * RBF(length_scale=50.0)"
   ]
  },
  {
   "cell_type": "markdown",
   "metadata": {},
   "source": [
    "The seasonal variation is explained by the periodic exponential sine squared\n",
    "kernel with a fixed periodicity of 1 year. The length-scale of this periodic\n",
    "component, controlling its smoothness, is a free parameter. In order to allow\n",
    "decaying away from exact periodicity, the product with an RBF kernel is\n",
    "taken. The length-scale of this RBF component controls the decay time and is\n",
    "a further free parameter. This type of kernel is also known as locally\n",
    "periodic kernel.\n",
    "\n"
   ]
  },
  {
   "cell_type": "code",
   "execution_count": null,
   "metadata": {},
   "outputs": [],
   "source": [
    "from sklearn.gaussian_process.kernels import ExpSineSquared\n",
    "\n",
    "seasonal_kernel = (\n",
    "    2.0**2\n",
    "    * RBF(length_scale=100.0)\n",
    "    * ExpSineSquared(length_scale=1.0, periodicity=1.0, periodicity_bounds=\"fixed\")\n",
    ")"
   ]
  },
  {
   "cell_type": "markdown",
   "metadata": {},
   "source": [
    "The small irregularities are to be explained by a rational quadratic kernel\n",
    "component, whose length-scale and alpha parameter, which quantifies the\n",
    "diffuseness of the length-scales, are to be determined. A rational quadratic\n",
    "kernel is equivalent to an RBF kernel with several length-scale and will\n",
    "better accommodate the different irregularities.\n",
    "\n"
   ]
  },
  {
   "cell_type": "code",
   "execution_count": null,
   "metadata": {},
   "outputs": [],
   "source": [
    "from sklearn.gaussian_process.kernels import RationalQuadratic\n",
    "\n",
    "irregularities_kernel = 0.5**2 * RationalQuadratic(length_scale=1.0, alpha=1.0)"
   ]
  },
  {
   "cell_type": "markdown",
   "metadata": {},
   "source": [
    "Finally, the noise in the dataset can be accounted with a kernel consisting\n",
    "of an RBF kernel contribution, which shall explain the correlated noise\n",
    "components such as local weather phenomena, and a white kernel contribution\n",
    "for the white noise. The relative amplitudes and the RBF's length scale are\n",
    "further free parameters.\n",
    "\n"
   ]
  },
  {
   "cell_type": "code",
   "execution_count": null,
   "metadata": {},
   "outputs": [],
   "source": [
    "from sklearn.gaussian_process.kernels import WhiteKernel\n",
    "\n",
    "noise_kernel = 0.1**2 * RBF(length_scale=0.1) + WhiteKernel(\n",
    "    noise_level=0.1**2, noise_level_bounds=(1e-5, 1e5)\n",
    ")"
   ]
  },
  {
   "cell_type": "markdown",
   "metadata": {},
   "source": [
    "Thus, our final kernel is an addition of all previous kernel.\n",
    "\n"
   ]
  },
  {
   "cell_type": "code",
   "execution_count": null,
   "metadata": {},
   "outputs": [],
   "source": [
    "co2_kernel = (\n",
    "    long_term_trend_kernel + seasonal_kernel + irregularities_kernel + noise_kernel\n",
    ")\n",
    "co2_kernel"
   ]
  },
  {
   "cell_type": "markdown",
   "metadata": {},
   "source": [
    "## Model fitting and extrapolation\n",
    "\n",
    "Now, we are ready to use a Gaussian process regressor and fit the available\n",
    "data. To follow the example from the literature, we will subtract the mean\n",
    "from the target. We could have used `normalize_y=True`. However, doing so\n",
    "would have also scaled the target (dividing `y` by its standard deviation).\n",
    "Thus, the hyperparameters of the different kernel would have had different\n",
    "meaning since they would not have been expressed in ppm.\n",
    "\n"
   ]
  },
  {
   "cell_type": "code",
   "execution_count": null,
   "metadata": {},
   "outputs": [],
   "source": [
    "from sklearn.gaussian_process import GaussianProcessRegressor\n",
    "\n",
    "y_mean = y.mean()\n",
    "gaussian_process = GaussianProcessRegressor(kernel=co2_kernel, normalize_y=False)\n",
    "gaussian_process.fit(X, y - y_mean)"
   ]
  },
  {
   "cell_type": "markdown",
   "metadata": {},
   "source": [
    "Now, we will use the Gaussian process to predict on:\n",
    "\n",
    "- training data to inspect the goodness of fit;\n",
    "- future data to see the extrapolation done by the model.\n",
    "\n",
    "Thus, we create synthetic data from 1958 to the current month. In addition,\n",
    "we need to add the subtracted mean computed during training.\n",
    "\n"
   ]
  },
  {
   "cell_type": "code",
   "execution_count": null,
   "metadata": {},
   "outputs": [],
   "source": [
    "import datetime\n",
    "import numpy as np\n",
    "\n",
    "today = datetime.datetime.now()\n",
    "current_month = today.year + today.month / 12\n",
    "X_test = np.linspace(start=1958, stop=current_month, num=1_000).reshape(-1, 1)\n",
    "mean_y_pred, std_y_pred = gaussian_process.predict(X_test, return_std=True)\n",
    "mean_y_pred += y_mean"
   ]
  },
  {
   "cell_type": "code",
   "execution_count": null,
   "metadata": {},
   "outputs": [],
   "source": [
    "plt.plot(X, y, color=\"black\", linestyle=\"dashed\", label=\"Measurements\")\n",
    "plt.plot(X_test, mean_y_pred, color=\"tab:blue\", alpha=0.4, label=\"Gaussian process\")\n",
    "plt.fill_between(\n",
    "    X_test.ravel(),\n",
    "    mean_y_pred - std_y_pred,\n",
    "    mean_y_pred + std_y_pred,\n",
    "    color=\"tab:blue\",\n",
    "    alpha=0.2,\n",
    ")\n",
    "plt.legend()\n",
    "plt.xlabel(\"Year\")\n",
    "plt.ylabel(\"Monthly average of CO$_2$ concentration (ppm)\")\n",
    "_ = plt.title(\n",
    "    \"Monthly average of air samples measurements\\nfrom the Mauna Loa Observatory\"\n",
    ")"
   ]
  },
  {
   "cell_type": "markdown",
   "metadata": {},
   "source": [
    "Our fitted model is capable to fit previous data properly and extrapolate to\n",
    "future year with confidence.\n",
    "\n",
    "## Interpretation of kernel hyperparameters\n",
    "\n",
    "Now, we can have a look at the hyperparameters of the kernel.\n",
    "\n"
   ]
  },
  {
   "cell_type": "code",
   "execution_count": null,
   "metadata": {},
   "outputs": [],
   "source": [
    "gaussian_process.kernel_"
   ]
  },
  {
   "cell_type": "markdown",
   "metadata": {},
   "source": [
    "Thus, most of the target signal, with the mean subtracted, is explained by a\n",
    "long-term rising trend for ~45 ppm and a length-scale of ~52 years. The\n",
    "periodic component has an amplitude of ~2.6ppm, a decay time of ~90 years and\n",
    "a length-scale of ~1.5. The long decay time indicates that we have a\n",
    "component very close to a seasonal periodicity. The correlated noise has an\n",
    "amplitude of ~0.2 ppm with a length scale of ~0.12 years and a white-noise\n",
    "contribution of ~0.04 ppm. Thus, the overall noise level is very small,\n",
    "indicating that the data can be very well explained by the model.\n",
    "\n"
   ]
  }
 ],
 "metadata": {
  "kernelspec": {
   "display_name": "Python 3 (ipykernel)",
   "language": "python",
   "name": "python3"
  },
  "language_info": {
   "codemirror_mode": {
    "name": "ipython",
    "version": 3
   },
   "file_extension": ".py",
   "mimetype": "text/x-python",
   "name": "python",
   "nbconvert_exporter": "python",
   "pygments_lexer": "ipython3",
   "version": "3.9.12"
  }
 },
 "nbformat": 4,
 "nbformat_minor": 1
}
